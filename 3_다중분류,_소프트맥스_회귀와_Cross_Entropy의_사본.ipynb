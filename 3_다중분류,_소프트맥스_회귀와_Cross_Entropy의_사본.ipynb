{
  "nbformat": 4,
  "nbformat_minor": 0,
  "metadata": {
    "colab": {
      "provenance": [],
      "include_colab_link": true
    },
    "kernelspec": {
      "name": "python3",
      "display_name": "Python 3"
    },
    "language_info": {
      "name": "python"
    }
  },
  "cells": [
    {
      "cell_type": "markdown",
      "metadata": {
        "id": "view-in-github",
        "colab_type": "text"
      },
      "source": [
        "<a href=\"https://colab.research.google.com/github/minju2140/tensorflow/blob/main/3_%EB%8B%A4%EC%A4%91%EB%B6%84%EB%A5%98%2C_%EC%86%8C%ED%94%84%ED%8A%B8%EB%A7%A5%EC%8A%A4_%ED%9A%8C%EA%B7%80%EC%99%80_Cross_Entropy%EC%9D%98_%EC%82%AC%EB%B3%B8.ipynb\" target=\"_parent\"><img src=\"https://colab.research.google.com/assets/colab-badge.svg\" alt=\"Open In Colab\"/></a>"
      ]
    },
    {
      "cell_type": "code",
      "execution_count": 1,
      "metadata": {
        "id": "S2cJWBTUfPfO"
      },
      "outputs": [],
      "source": [
        "import matplotlib.pyplot as plt\n",
        "import pandas as pd\n",
        "import numpy as np\n",
        "from tensorflow import keras\n",
        "from tensorflow.keras import layers"
      ]
    },
    {
      "cell_type": "markdown",
      "source": [
        "## 샘플 데이터 생성"
      ],
      "metadata": {
        "id": "dA6MD-xyJ-C2"
      }
    },
    {
      "cell_type": "code",
      "source": [
        "x = np.array([\n",
        "    [14, 5, 30],\n",
        "    [16, 6, 45],\n",
        "    [5, 5, 45],\n",
        "    [20, 6, 60],\n",
        "    [10, 7, 55],\n",
        "    [13, 10, 50],\n",
        "], dtype=np.float32)\n",
        "\n",
        "y = np.array([\n",
        "    [1,0,0], # 말티즈\n",
        "    [0,1,0], # 푸들\n",
        "    [0,0,1], # 치와와\n",
        "    [1,0,0], # 말티즈\n",
        "    [0,1,0], # 푸들\n",
        "    [0,0,1], # 치와와\n",
        "], dtype=np.float32)"
      ],
      "metadata": {
        "id": "LEL7rBU1KA29"
      },
      "execution_count": 2,
      "outputs": []
    },
    {
      "cell_type": "markdown",
      "source": [
        "## 케라스 모델 생성\n",
        "자동 임의 weight 초기화  \n",
        "$$\\text{softmax}(x_i) = \\frac{\\exp(x_i)}{\\sum_{j=1}^K \\exp(x_j)}$$\n"
      ],
      "metadata": {
        "id": "YWu7V7GGfp7X"
      }
    },
    {
      "cell_type": "code",
      "source": [
        "model = keras.Sequential([\n",
        "    layers.Dense(units=3, input_shape=[3], activation='softmax') #유닛 3개로 설정, 인풋 역시 3, 활성화 함수는 소프트맥스 함수로\n",
        "])\n",
        "#모든 선은 weight를 가짐.\n",
        "print(model.get_weights())"
      ],
      "metadata": {
        "id": "e0Wf3eIgf7Yq",
        "colab": {
          "base_uri": "https://localhost:8080/"
        },
        "outputId": "28585e89-706e-496c-d82c-db09fad425ac"
      },
      "execution_count": 3,
      "outputs": [
        {
          "output_type": "stream",
          "name": "stdout",
          "text": [
            "[array([[-0.33822274, -0.6463821 ,  0.5251396 ],\n",
            "       [-0.80255175,  0.86361194,  0.21332955],\n",
            "       [-0.32369685, -0.4048488 ,  0.33538294]], dtype=float32), array([0., 0., 0.], dtype=float32)]\n"
          ]
        },
        {
          "output_type": "stream",
          "name": "stderr",
          "text": [
            "/usr/local/lib/python3.11/dist-packages/keras/src/layers/core/dense.py:87: UserWarning: Do not pass an `input_shape`/`input_dim` argument to a layer. When using Sequential models, prefer using an `Input(shape)` object as the first layer in the model instead.\n",
            "  super().__init__(activity_regularizer=activity_regularizer, **kwargs)\n"
          ]
        }
      ]
    },
    {
      "cell_type": "markdown",
      "source": [
        "### 만약, 데이터를 잘 표현할 수 있는 소프트맥스 함수의 가중치를 찾고 싶다면..\n",
        "배운대로, cross entropy를 비용함수로 설정하고 Gradient Decent를 사용하여 모델을 학습시킨 다음, 적합한 가중치를 찾아낼 수 있다.  \n",
        "\n",
        "다중 분류인 경우 사용하는 cross entropy를 categorical cross entropy라고 부른다.  \n",
        "$$ CE = -\\frac{1}{N} \\sum_{i=1}^{N} y_{i} \\log(\\hat{y}{i}) $$"
      ],
      "metadata": {
        "id": "LsWt9YTQgvTu"
      }
    },
    {
      "cell_type": "code",
      "source": [
        "# 모델 컴파일 과정\n",
        "sgd = keras.optimizers.SGD(learning_rate=0.01) # 경사하강법 learnig rate를 0.1로 설정하고\n",
        "model.compile(optimizer=sgd, loss='categorical_crossentropy') # CCE를 비용함수로 설정\n",
        "\n",
        "# 학습\n",
        "history = model.fit(x, y, epochs=5)\n",
        "\n",
        "# loss 시각화\n",
        "plt.plot(history.history['loss'])\n",
        "plt.title('Model Loss')\n",
        "plt.xlabel('Epoch')\n",
        "plt.ylabel('Loss')\n",
        "plt.show()"
      ],
      "metadata": {
        "id": "A3a_pfQFg7EW",
        "colab": {
          "base_uri": "https://localhost:8080/",
          "height": 654
        },
        "outputId": "d92e5332-c00d-43e8-c5fc-ebc1e5919140"
      },
      "execution_count": 4,
      "outputs": [
        {
          "output_type": "stream",
          "name": "stdout",
          "text": [
            "Epoch 1/5\n",
            "\u001b[1m1/1\u001b[0m \u001b[32m━━━━━━━━━━━━━━━━━━━━\u001b[0m\u001b[37m\u001b[0m \u001b[1m0s\u001b[0m 380ms/step - loss: 32.6459\n",
            "Epoch 2/5\n",
            "\u001b[1m1/1\u001b[0m \u001b[32m━━━━━━━━━━━━━━━━━━━━\u001b[0m\u001b[37m\u001b[0m \u001b[1m0s\u001b[0m 194ms/step - loss: 15.8342\n",
            "Epoch 3/5\n",
            "\u001b[1m1/1\u001b[0m \u001b[32m━━━━━━━━━━━━━━━━━━━━\u001b[0m\u001b[37m\u001b[0m \u001b[1m0s\u001b[0m 67ms/step - loss: 3.8486\n",
            "Epoch 4/5\n",
            "\u001b[1m1/1\u001b[0m \u001b[32m━━━━━━━━━━━━━━━━━━━━\u001b[0m\u001b[37m\u001b[0m \u001b[1m0s\u001b[0m 49ms/step - loss: 5.8762\n",
            "Epoch 5/5\n",
            "\u001b[1m1/1\u001b[0m \u001b[32m━━━━━━━━━━━━━━━━━━━━\u001b[0m\u001b[37m\u001b[0m \u001b[1m0s\u001b[0m 57ms/step - loss: 6.1646\n"
          ]
        },
        {
          "output_type": "display_data",
          "data": {
            "text/plain": [
              "<Figure size 640x480 with 1 Axes>"
            ],
            "image/png": "[encoded data removed]"
          },
          "metadata": {}
        }
      ]
    },
    {
      "cell_type": "code",
      "source": [
        "# 새로운 데이터를 통한 label 예측\n",
        "x_new = np.array([[12, 6, 35], [8, 5, 50]], dtype=np.float32)\n",
        "y_pred = np.round(model.predict(x_new), 3)\n",
        "\n",
        "# 모델이 예측한 label print\n",
        "print(y_pred)\n",
        "\n",
        "#[말티즈일 확률, 푸들일 확률, 치와와일 확률]"
      ],
      "metadata": {
        "id": "UP-zBYRGgOE-",
        "colab": {
          "base_uri": "https://localhost:8080/"
        },
        "outputId": "19da86e4-faa5-4d01-8380-cf0e3966fe2d"
      },
      "execution_count": 6,
      "outputs": [
        {
          "output_type": "stream",
          "name": "stdout",
          "text": [
            "\u001b[1m1/1\u001b[0m \u001b[32m━━━━━━━━━━━━━━━━━━━━\u001b[0m\u001b[37m\u001b[0m \u001b[1m0s\u001b[0m 38ms/step\n",
            "[[0.095 0.862 0.043]\n",
            " [0.342 0.658 0.   ]]\n"
          ]
        }
      ]
    },
    {
      "cell_type": "code",
      "source": [],
      "metadata": {
        "id": "oyOm1KgaQ9n-"
      },
      "execution_count": null,
      "outputs": []
    }
  ]
}